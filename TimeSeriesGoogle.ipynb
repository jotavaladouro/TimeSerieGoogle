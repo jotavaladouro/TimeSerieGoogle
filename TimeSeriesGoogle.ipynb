{
 "cells": [
  {
   "cell_type": "markdown",
   "metadata": {},
   "source": [
    "Download from here https://finance.google.com/finance/historical?q=NASDAQ:GOOG"
   ]
  },
  {
   "cell_type": "code",
   "execution_count": 5,
   "metadata": {
    "collapsed": false
   },
   "outputs": [
    {
     "name": "stdout",
     "output_type": "stream",
     "text": [
      "Tokenization took: 0.07 ms\n",
      "Type conversion took: 0.09 ms\n",
      "Parser memory cleanup took: 0.00 ms\n"
     ]
    }
   ],
   "source": [
    "### Load in necessary libraries for data input and normalization\n",
    "%matplotlib inline\n",
    "import numpy as np\n",
    "import matplotlib.pyplot as plt\n",
    "import pandas as pandas\n",
    "\n",
    "\n",
    "\n",
    "### load \n",
    "\n",
    "value=pandas.read_csv('goog.csv',verbose=True,usecols=[4],encoding='utf-8').as_matrix() \n",
    "                                  \n"
   ]
  },
  {
   "cell_type": "code",
   "execution_count": 6,
   "metadata": {
    "collapsed": false
   },
   "outputs": [
    {
     "name": "stdout",
     "output_type": "stream",
     "text": [
      "[[ 0.98204339]\n",
      " [ 0.96743661]\n",
      " [ 1.        ]\n",
      " [ 0.99754606]\n",
      " [ 0.99684493]\n",
      " [ 0.9878082 ]\n",
      " [ 0.98060219]\n",
      " [ 0.98613329]\n",
      " [ 0.92127916]\n",
      " [ 0.93841779]\n",
      " [ 0.94577961]\n",
      " [ 0.91099599]\n",
      " [ 0.83979278]\n",
      " [ 0.8635921 ]\n",
      " [ 0.84598606]\n",
      " [ 0.86873369]\n",
      " [ 0.83130137]\n",
      " [ 0.8117867 ]\n",
      " [ 0.73532505]\n",
      " [ 0.72017294]\n",
      " [ 0.74962022]\n",
      " [ 0.76488918]\n",
      " [ 0.76150041]\n",
      " [ 0.72344486]\n",
      " [ 0.69691894]\n",
      " [ 0.71752425]\n",
      " [ 0.73629884]\n",
      " [ 0.77517236]\n",
      " [ 0.76340903]\n",
      " [ 0.75176255]\n",
      " [ 0.74171308]\n",
      " [ 0.77852218]\n",
      " [ 0.74681572]\n",
      " [ 0.74930861]\n",
      " [ 0.78393643]\n",
      " [ 0.79168777]\n",
      " [ 0.75367117]\n",
      " [ 0.72141939]\n",
      " [ 0.69228372]\n",
      " [ 0.70038562]\n",
      " [ 0.72138044]\n",
      " [ 0.74366066]\n",
      " [ 0.73466288]\n",
      " [ 0.66443345]\n",
      " [ 0.68005297]\n",
      " [ 0.68126047]\n",
      " [ 0.74350485]\n",
      " [ 0.72504187]\n",
      " [ 0.72679469]\n",
      " [ 0.6945429 ]\n",
      " [ 0.66669263]\n",
      " [ 0.72769057]\n",
      " [ 0.74284268]\n",
      " [ 0.75285319]\n",
      " [ 0.74739999]\n",
      " [ 0.73061193]\n",
      " [ 0.75686519]\n",
      " [ 0.75857905]\n",
      " [ 0.75729365]\n",
      " [ 0.80025708]\n",
      " [ 0.77127722]\n",
      " [ 0.82467962]\n",
      " [ 0.83597554]\n",
      " [ 0.95142757]\n",
      " [ 0.92252561]\n",
      " [ 0.90394578]\n",
      " [ 0.91461847]\n",
      " [ 0.89323414]\n",
      " [ 0.84657033]\n",
      " [ 0.85658084]\n",
      " [ 0.82218673]\n",
      " [ 0.80921591]\n",
      " [ 0.75569665]\n",
      " [ 0.75067191]\n",
      " [ 0.7109025 ]\n",
      " [ 0.66455031]\n",
      " [ 0.68410392]\n",
      " [ 0.63342812]\n",
      " [ 0.6724964 ]\n",
      " [ 0.70778639]\n",
      " [ 0.79620613]\n",
      " [ 0.74494605]\n",
      " [ 0.84209091]\n",
      " [ 0.89397421]\n",
      " [ 0.8608655 ]\n",
      " [ 0.87005804]\n",
      " [ 0.83570288]\n",
      " [ 0.86195614]\n",
      " [ 0.79344058]\n",
      " [ 0.80329529]\n",
      " [ 0.83620925]\n",
      " [ 0.84649242]\n",
      " [ 0.80559342]\n",
      " [ 0.83258676]\n",
      " [ 0.96338566]\n",
      " [ 0.95430998]\n",
      " [ 0.93674288]\n",
      " [ 0.96443735]\n",
      " [ 0.93296459]\n",
      " [ 0.89927161]\n",
      " [ 0.89113076]\n",
      " [ 0.93405523]\n",
      " [ 0.91687765]\n",
      " [ 0.90936003]\n",
      " [ 0.85256885]\n",
      " [ 0.82865267]\n",
      " [ 0.80154248]\n",
      " [ 0.77096561]\n",
      " [ 0.75628092]\n",
      " [ 0.7149145 ]\n",
      " [ 0.80598294]\n",
      " [ 0.78292369]\n",
      " [ 0.7639933 ]\n",
      " [ 0.75768317]\n",
      " [ 0.75059401]\n",
      " [ 0.76379854]\n",
      " [ 0.7720952 ]\n",
      " [ 0.74416702]\n",
      " [ 0.76181202]\n",
      " [ 0.74381646]\n",
      " [ 0.70252795]\n",
      " [ 0.68745375]\n",
      " [ 0.66170685]\n",
      " [ 0.53819187]\n",
      " [ 0.52837611]\n",
      " [ 0.53059635]\n",
      " [ 0.49343668]\n",
      " [ 0.41720874]\n",
      " [ 0.41121022]\n",
      " [ 0.39781093]\n",
      " [ 0.39239668]\n",
      " [ 0.39375998]\n",
      " [ 0.34074709]\n",
      " [ 0.3437074 ]\n",
      " [ 0.33992911]\n",
      " [ 0.34530441]\n",
      " [ 0.3450707 ]\n",
      " [ 0.35757411]\n",
      " [ 0.37132396]\n",
      " [ 0.38363261]\n",
      " [ 0.39913528]\n",
      " [ 0.36411794]\n",
      " [ 0.37167452]\n",
      " [ 0.37132396]\n",
      " [ 0.33046391]\n",
      " [ 0.32497176]\n",
      " [ 0.30518444]\n",
      " [ 0.31745413]\n",
      " [ 0.3642348 ]\n",
      " [ 0.36762357]\n",
      " [ 0.43750243]\n",
      " [ 0.45199237]\n",
      " [ 0.43898259]\n",
      " [ 0.43282826]\n",
      " [ 0.42667394]\n",
      " [ 0.42636233]\n",
      " [ 0.41744245]\n",
      " [ 0.39964165]\n",
      " [ 0.38674872]\n",
      " [ 0.37327153]\n",
      " [ 0.35718459]\n",
      " [ 0.36224828]\n",
      " [ 0.36828575]\n",
      " [ 0.38624236]\n",
      " [ 0.33938379]\n",
      " [ 0.3630273 ]\n",
      " [ 0.36053441]\n",
      " [ 0.37101235]\n",
      " [ 0.36879212]\n",
      " [ 0.37229774]\n",
      " [ 0.35831418]\n",
      " [ 0.34308417]\n",
      " [ 0.32290733]\n",
      " [ 0.32863319]\n",
      " [ 0.32392007]\n",
      " [ 0.30222413]\n",
      " [ 0.28621509]\n",
      " [ 0.28161882]\n",
      " [ 0.27612667]\n",
      " [ 0.25419702]\n",
      " [ 0.25478129]\n",
      " [ 0.24325167]\n",
      " [ 0.23222841]\n",
      " [ 0.23647412]\n",
      " [ 0.25801426]\n",
      " [ 0.3397733 ]\n",
      " [ 0.37420636]\n",
      " [ 0.38791727]\n",
      " [ 0.34195458]\n",
      " [ 0.32419273]\n",
      " [ 0.26853114]\n",
      " [ 0.25746894]\n",
      " [ 0.27262104]\n",
      " [ 0.26693413]\n",
      " [ 0.27967125]\n",
      " [ 0.27375063]\n",
      " [ 0.2797881 ]\n",
      " [ 0.26763526]\n",
      " [ 0.27488022]\n",
      " [ 0.27293265]\n",
      " [ 0.22568457]\n",
      " [ 0.19795115]\n",
      " [ 0.19499085]\n",
      " [ 0.1392124 ]\n",
      " [ 0.18194212]\n",
      " [ 0.19074514]\n",
      " [ 0.21606357]\n",
      " [ 0.20967553]\n",
      " [ 0.21493398]\n",
      " [ 0.22778795]\n",
      " [ 0.23503291]\n",
      " [ 0.2263857 ]\n",
      " [ 0.21314221]\n",
      " [ 0.24060297]\n",
      " [ 0.23756476]\n",
      " [ 0.23378647]\n",
      " [ 0.20718264]\n",
      " [ 0.20726055]\n",
      " [ 0.15713006]\n",
      " [ 0.13675846]\n",
      " [ 0.08970514]\n",
      " [ 0.10298757]\n",
      " [ 0.05616796]\n",
      " [ 0.04611849]\n",
      " [ 0.08553733]\n",
      " [ 0.13539516]\n",
      " [ 0.12526779]\n",
      " [ 0.09971565]\n",
      " [ 0.09702801]\n",
      " [ 0.12538465]\n",
      " [ 0.12900713]\n",
      " [ 0.09527519]\n",
      " [ 0.13691427]\n",
      " [ 0.11062205]\n",
      " [ 0.08729015]\n",
      " [ 0.        ]\n",
      " [ 0.06987886]\n",
      " [ 0.10314338]\n",
      " [ 0.19175788]\n",
      " [ 0.21201262]\n",
      " [ 0.18089043]\n",
      " [ 0.10104   ]\n",
      " [ 0.10146847]\n",
      " [ 0.12705956]\n",
      " [ 0.18513614]\n",
      " [ 0.18875862]\n",
      " [ 0.23094301]\n",
      " [ 0.23086511]\n",
      " [ 0.24535504]\n",
      " [ 0.27885327]\n",
      " [ 0.30004285]]\n"
     ]
    }
   ],
   "source": [
    "from sklearn.preprocessing import MinMaxScaler\n",
    "scaler=MinMaxScaler(feature_range=(0, 1))\n",
    "scaler.fit(value)\n",
    "value_scaled=scaler.transform(value)\n",
    "print(value_scaled)"
   ]
  },
  {
   "cell_type": "code",
   "execution_count": 7,
   "metadata": {
    "collapsed": false
   },
   "outputs": [
    {
     "data": {
      "text/plain": [
       "<matplotlib.text.Text at 0x11cda46d8>"
      ]
     },
     "execution_count": 7,
     "metadata": {},
     "output_type": "execute_result"
    },
    {
     "data": {
      "image/png": "[encoded data removed]",
      "text/plain": [
       "<matplotlib.figure.Figure at 0x10d40c6a0>"
      ]
     },
     "metadata": {},
     "output_type": "display_data"
    }
   ],
   "source": [
    "#plot\n",
    "plt.plot(value_scaled)\n",
    "plt.xlabel('time period')\n",
    "plt.ylabel('normalized series value')"
   ]
  },
  {
   "cell_type": "code",
   "execution_count": 8,
   "metadata": {
    "collapsed": true
   },
   "outputs": [],
   "source": [
    "#Cuting\n",
    "def window_transform_series(series,window_size):\n",
    "    # containers for input/output pairs\n",
    "    X = []\n",
    "    y = []\n",
    "    # k .- Beggining of X series, \n",
    "    for k in range(len(series) - window_size):\n",
    "        #Fill X with series element from k to k+window_size\n",
    "        X.append(series[k:(k+window_size)])\n",
    "        #Fill X with series element  k+window_size\n",
    "        y.append(series[k+window_size])\n",
    "        \n",
    "    # reshape each \n",
    "    X = np.asarray(X)\n",
    "    X.shape = (np.shape(X)[0:2])\n",
    "    y = np.asarray(y)\n",
    "    y.shape = (len(y),1)\n",
    "    \n",
    "    return X,y\n"
   ]
  },
  {
   "cell_type": "code",
   "execution_count": 9,
   "metadata": {
    "collapsed": false
   },
   "outputs": [],
   "source": [
    "window_size = 7\n",
    "X,y = window_transform_series(series = value_scaled,window_size = window_size)"
   ]
  },
  {
   "cell_type": "code",
   "execution_count": 10,
   "metadata": {
    "collapsed": true
   },
   "outputs": [],
   "source": [
    "#splittion\n",
    "# split our dataset into training / testing sets\n",
    "train_test_split = int(np.ceil(2*len(y)/float(3)))   # set the split point\n",
    "\n",
    "# partition the training set\n",
    "X_train = X[:train_test_split,:]\n",
    "y_train = y[:train_test_split]\n",
    "\n",
    "# keep the last chunk for testing\n",
    "X_test = X[train_test_split:,:]\n",
    "y_test = y[train_test_split:]\n",
    "\n",
    "# NOTE: to use keras's RNN LSTM module our input must be reshaped to [samples, window size, stepsize] \n",
    "X_train = np.asarray(np.reshape(X_train, (X_train.shape[0], window_size, 1)))\n",
    "X_test = np.asarray(np.reshape(X_test, (X_test.shape[0], window_size, 1)))"
   ]
  },
  {
   "cell_type": "code",
   "execution_count": null,
   "metadata": {
    "collapsed": false
   },
   "outputs": [
    {
     "name": "stderr",
     "output_type": "stream",
     "text": [
      "Using TensorFlow backend.\n"
     ]
    }
   ],
   "source": [
    "#Build and train\n",
    "from keras.models import Sequential\n",
    "from keras.layers import Dense\n",
    "from keras.layers import LSTM\n",
    "import keras\n",
    "\n",
    "# given - fix random seed - so we can all reproduce the same results on our default time series\n",
    "np.random.seed(0)\n",
    "\n",
    "\n",
    "# TODO: build an RNN to perform regression on our time series input/output data\n",
    "model=Sequential()\n",
    "# 1 Layer .- LSTM, 5 hidden units \n",
    "model.add(LSTM(5,input_shape = (window_size,1)))\n",
    "# 1 Layer .- Dense, 1 units \n",
    "model.add(Dense(1))\n",
    "\n",
    "\n",
    "# build model using keras documentation recommended optimizer initialization\n",
    "optimizer = keras.optimizers.RMSprop(lr=0.001, rho=0.9, epsilon=1e-08, decay=0.0)\n",
    "\n",
    "# compile the model\n",
    "model.compile(loss='mean_squared_error', optimizer=optimizer)"
   ]
  },
  {
   "cell_type": "code",
   "execution_count": null,
   "metadata": {
    "collapsed": false
   },
   "outputs": [],
   "source": [
    "model.fit(X_train, y_train, epochs=1000, batch_size=50, verbose=0)"
   ]
  },
  {
   "cell_type": "code",
   "execution_count": null,
   "metadata": {
    "collapsed": true
   },
   "outputs": [],
   "source": [
    "Test"
   ]
  }
 ],
 "metadata": {
  "kernelspec": {
   "display_name": "Python 3",
   "language": "python",
   "name": "python3"
  },
  "language_info": {
   "codemirror_mode": {
    "name": "ipython",
    "version": 3
   },
   "file_extension": ".py",
   "mimetype": "text/x-python",
   "name": "python",
   "nbconvert_exporter": "python",
   "pygments_lexer": "ipython3",
   "version": "3.5.1"
  }
 },
 "nbformat": 4,
 "nbformat_minor": 0
}
